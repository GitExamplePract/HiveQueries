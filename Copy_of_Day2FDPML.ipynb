{
  "nbformat": 4,
  "nbformat_minor": 0,
  "metadata": {
    "colab": {
      "name": "Copy of Day2FDPML.ipynb",
      "provenance": [],
      "toc_visible": true,
      "authorship_tag": "ABX9TyOYpVsnH5kQcJKdcEuewm8c",
      "include_colab_link": true
    },
    "kernelspec": {
      "name": "python3",
      "display_name": "Python 3"
    }
  },
  "cells": [
    {
      "cell_type": "markdown",
      "metadata": {
        "id": "view-in-github",
        "colab_type": "text"
      },
      "source": [
        "<a href=\"https://colab.research.google.com/github/GitExamplePract/HiveQueries/blob/master/Copy_of_Day2FDPML.ipynb\" target=\"_parent\"><img src=\"https://colab.research.google.com/assets/colab-badge.svg\" alt=\"Open In Colab\"/></a>"
      ]
    },
    {
      "cell_type": "code",
      "metadata": {
        "id": "Ht43tkHNBBrN",
        "colab_type": "code",
        "outputId": "7573fe3b-5ad1-4ec9-b3eb-1f1c00d47ca3",
        "colab": {
          "base_uri": "https://localhost:8080/",
          "height": 34
        }
      },
      "source": [
        "print(\"Hello\")"
      ],
      "execution_count": 0,
      "outputs": [
        {
          "output_type": "stream",
          "text": [
            "Hello\n"
          ],
          "name": "stdout"
        }
      ]
    },
    {
      "cell_type": "code",
      "metadata": {
        "id": "dmvFKT5SBf_C",
        "colab_type": "code",
        "outputId": "46aa75bf-1bb1-4a23-a63d-154328a495da",
        "colab": {
          "base_uri": "https://localhost:8080/",
          "height": 383
        }
      },
      "source": [
        "import numpy as np\n",
        "import pandas as pd\n",
        "filepath = '/content/covid_19_india.csv'\n",
        "data = pd.read_csv(filepath)\n",
        "data.head()"
      ],
      "execution_count": 0,
      "outputs": [
        {
          "output_type": "execute_result",
          "data": {
            "text/html": [
              "<div>\n",
              "<style scoped>\n",
              "    .dataframe tbody tr th:only-of-type {\n",
              "        vertical-align: middle;\n",
              "    }\n",
              "\n",
              "    .dataframe tbody tr th {\n",
              "        vertical-align: top;\n",
              "    }\n",
              "\n",
              "    .dataframe thead th {\n",
              "        text-align: right;\n",
              "    }\n",
              "</style>\n",
              "<table border=\"1\" class=\"dataframe\">\n",
              "  <thead>\n",
              "    <tr style=\"text-align: right;\">\n",
              "      <th></th>\n",
              "      <th>Sno</th>\n",
              "      <th>Date</th>\n",
              "      <th>Time</th>\n",
              "      <th>Region</th>\n",
              "      <th>ConfirmedIndianNational</th>\n",
              "      <th>ConfirmedForeignNational</th>\n",
              "      <th>Cured</th>\n",
              "      <th>Deaths</th>\n",
              "      <th>Confirmed</th>\n",
              "    </tr>\n",
              "  </thead>\n",
              "  <tbody>\n",
              "    <tr>\n",
              "      <th>0</th>\n",
              "      <td>1</td>\n",
              "      <td>30-01-2020</td>\n",
              "      <td>6:00 PM</td>\n",
              "      <td>Kerala</td>\n",
              "      <td>1</td>\n",
              "      <td>0</td>\n",
              "      <td>0</td>\n",
              "      <td>0</td>\n",
              "      <td>1</td>\n",
              "    </tr>\n",
              "    <tr>\n",
              "      <th>1</th>\n",
              "      <td>2</td>\n",
              "      <td>31-01-2020</td>\n",
              "      <td>6:00 PM</td>\n",
              "      <td>Kerala</td>\n",
              "      <td>1</td>\n",
              "      <td>0</td>\n",
              "      <td>0</td>\n",
              "      <td>0</td>\n",
              "      <td>1</td>\n",
              "    </tr>\n",
              "    <tr>\n",
              "      <th>2</th>\n",
              "      <td>3</td>\n",
              "      <td>01-02-2020</td>\n",
              "      <td>6:00 PM</td>\n",
              "      <td>Kerala</td>\n",
              "      <td>2</td>\n",
              "      <td>0</td>\n",
              "      <td>0</td>\n",
              "      <td>0</td>\n",
              "      <td>2</td>\n",
              "    </tr>\n",
              "    <tr>\n",
              "      <th>3</th>\n",
              "      <td>4</td>\n",
              "      <td>02-02-2020</td>\n",
              "      <td>6:00 PM</td>\n",
              "      <td>Kerala</td>\n",
              "      <td>3</td>\n",
              "      <td>0</td>\n",
              "      <td>0</td>\n",
              "      <td>0</td>\n",
              "      <td>3</td>\n",
              "    </tr>\n",
              "    <tr>\n",
              "      <th>4</th>\n",
              "      <td>5</td>\n",
              "      <td>03-02-2020</td>\n",
              "      <td>6:00 PM</td>\n",
              "      <td>Kerala</td>\n",
              "      <td>3</td>\n",
              "      <td>0</td>\n",
              "      <td>0</td>\n",
              "      <td>0</td>\n",
              "      <td>3</td>\n",
              "    </tr>\n",
              "  </tbody>\n",
              "</table>\n",
              "</div>"
            ],
            "text/plain": [
              "   Sno        Date     Time  ... Cured Deaths Confirmed\n",
              "0    1  30-01-2020  6:00 PM  ...     0      0         1\n",
              "1    2  31-01-2020  6:00 PM  ...     0      0         1\n",
              "2    3  01-02-2020  6:00 PM  ...     0      0         2\n",
              "3    4  02-02-2020  6:00 PM  ...     0      0         3\n",
              "4    5  03-02-2020  6:00 PM  ...     0      0         3\n",
              "\n",
              "[5 rows x 9 columns]"
            ]
          },
          "metadata": {
            "tags": []
          },
          "execution_count": 10
        }
      ]
    },
    {
      "cell_type": "code",
      "metadata": {
        "id": "SJCyU86xB9G9",
        "colab_type": "code",
        "outputId": "c7ce0ce4-2265-42b8-95e1-aa7e4bd854cb",
        "colab": {
          "base_uri": "https://localhost:8080/",
          "height": 34
        }
      },
      "source": [
        "print(data.shape)"
      ],
      "execution_count": 0,
      "outputs": [
        {
          "output_type": "stream",
          "text": [
            "(1638, 9)\n"
          ],
          "name": "stdout"
        }
      ]
    },
    {
      "cell_type": "code",
      "metadata": {
        "id": "7RROATtDFIYq",
        "colab_type": "code",
        "outputId": "2e029bd8-19d4-4be6-db07-54217dffdbf7",
        "colab": {
          "base_uri": "https://localhost:8080/",
          "height": 54
        }
      },
      "source": [
        "print(data.columns.tolist())"
      ],
      "execution_count": 0,
      "outputs": [
        {
          "output_type": "stream",
          "text": [
            "['Sno', 'Date', 'Time', 'Region', 'ConfirmedIndianNational', 'ConfirmedForeignNational', 'Cured', 'Deaths', 'Confirmed']\n"
          ],
          "name": "stdout"
        }
      ]
    },
    {
      "cell_type": "code",
      "metadata": {
        "id": "TktghCXTFdRC",
        "colab_type": "code",
        "outputId": "1d0acc22-ddbd-4315-9d96-f7f547e4c13c",
        "colab": {
          "base_uri": "https://localhost:8080/",
          "height": 185
        }
      },
      "source": [
        "print(data.dtypes)"
      ],
      "execution_count": 0,
      "outputs": [
        {
          "output_type": "stream",
          "text": [
            "Sno                          int64\n",
            "Date                        object\n",
            "Time                        object\n",
            "Region                      object\n",
            "ConfirmedIndianNational     object\n",
            "ConfirmedForeignNational    object\n",
            "Cured                        int64\n",
            "Deaths                       int64\n",
            "Confirmed                    int64\n",
            "dtype: object\n"
          ],
          "name": "stdout"
        }
      ]
    },
    {
      "cell_type": "code",
      "metadata": {
        "id": "81E3MDkoFrcu",
        "colab_type": "code",
        "outputId": "fdcbec92-e9dc-42df-c92b-90b9d75c5b1c",
        "colab": {
          "base_uri": "https://localhost:8080/",
          "height": 638
        }
      },
      "source": [
        "data.Region.value_counts()"
      ],
      "execution_count": 0,
      "outputs": [
        {
          "output_type": "execute_result",
          "data": {
            "text/plain": [
              "Kerala                         97\n",
              "Telengana                      65\n",
              "Delhi                          65\n",
              "Rajasthan                      64\n",
              "Uttar Pradesh                  63\n",
              "Haryana                        63\n",
              "Tamil Nadu                     60\n",
              "Ladakh                         60\n",
              "Karnataka                      58\n",
              "Punjab                         58\n",
              "Jammu and Kashmir              58\n",
              "Maharashtra                    58\n",
              "Andhra Pradesh                 55\n",
              "Uttarakhand                    52\n",
              "Odisha                         51\n",
              "Puducherry                     49\n",
              "West Bengal                    49\n",
              "Chhattisgarh                   48\n",
              "Chandigarh                     48\n",
              "Gujarat                        47\n",
              "Madhya Pradesh                 46\n",
              "Himachal Pradesh               46\n",
              "Bihar                          45\n",
              "Manipur                        43\n",
              "Mizoram                        42\n",
              "Goa                            41\n",
              "Andaman and Nicobar Islands    41\n",
              "Assam                          35\n",
              "Jharkhand                      34\n",
              "Arunachal Pradesh              33\n",
              "Tripura                        29\n",
              "Meghalaya                      22\n",
              "Nagaland#                       5\n",
              "Nagaland                        4\n",
              "Unassigned                      3\n",
              "Jharkhand#                      1\n",
              "Name: Region, dtype: int64"
            ]
          },
          "metadata": {
            "tags": []
          },
          "execution_count": 15
        }
      ]
    },
    {
      "cell_type": "code",
      "metadata": {
        "id": "kWtFDQdeGGwR",
        "colab_type": "code",
        "outputId": "70abed98-01f0-43ef-ee3a-9e9b33bcac57",
        "colab": {
          "base_uri": "https://localhost:8080/",
          "height": 195
        }
      },
      "source": [
        "stat_df = data.describe()\n",
        "stat_df.loc['range'] = stat_df.loc['max'] - stat_df.loc['min']\n",
        "\n",
        "out_fields = ['mean', '25%', '50%', '75%', 'range']\n",
        "stat_df = stat_df.loc[out_fields]\n",
        "stat_df\n",
        "stat_df.rename({'50%':'median'}, inplace=True)\n",
        "stat_df"
      ],
      "execution_count": 0,
      "outputs": [
        {
          "output_type": "execute_result",
          "data": {
            "text/html": [
              "<div>\n",
              "<style scoped>\n",
              "    .dataframe tbody tr th:only-of-type {\n",
              "        vertical-align: middle;\n",
              "    }\n",
              "\n",
              "    .dataframe tbody tr th {\n",
              "        vertical-align: top;\n",
              "    }\n",
              "\n",
              "    .dataframe thead th {\n",
              "        text-align: right;\n",
              "    }\n",
              "</style>\n",
              "<table border=\"1\" class=\"dataframe\">\n",
              "  <thead>\n",
              "    <tr style=\"text-align: right;\">\n",
              "      <th></th>\n",
              "      <th>Sno</th>\n",
              "      <th>Cured</th>\n",
              "      <th>Deaths</th>\n",
              "      <th>Confirmed</th>\n",
              "    </tr>\n",
              "  </thead>\n",
              "  <tbody>\n",
              "    <tr>\n",
              "      <th>mean</th>\n",
              "      <td>819.50</td>\n",
              "      <td>80.022589</td>\n",
              "      <td>12.283272</td>\n",
              "      <td>387.067766</td>\n",
              "    </tr>\n",
              "    <tr>\n",
              "      <th>25%</th>\n",
              "      <td>410.25</td>\n",
              "      <td>0.000000</td>\n",
              "      <td>0.000000</td>\n",
              "      <td>5.000000</td>\n",
              "    </tr>\n",
              "    <tr>\n",
              "      <th>median</th>\n",
              "      <td>819.50</td>\n",
              "      <td>4.000000</td>\n",
              "      <td>0.000000</td>\n",
              "      <td>31.000000</td>\n",
              "    </tr>\n",
              "    <tr>\n",
              "      <th>75%</th>\n",
              "      <td>1228.75</td>\n",
              "      <td>32.000000</td>\n",
              "      <td>4.000000</td>\n",
              "      <td>245.000000</td>\n",
              "    </tr>\n",
              "    <tr>\n",
              "      <th>range</th>\n",
              "      <td>1637.00</td>\n",
              "      <td>2465.000000</td>\n",
              "      <td>583.000000</td>\n",
              "      <td>14541.000000</td>\n",
              "    </tr>\n",
              "  </tbody>\n",
              "</table>\n",
              "</div>"
            ],
            "text/plain": [
              "            Sno        Cured      Deaths     Confirmed\n",
              "mean     819.50    80.022589   12.283272    387.067766\n",
              "25%      410.25     0.000000    0.000000      5.000000\n",
              "median   819.50     4.000000    0.000000     31.000000\n",
              "75%     1228.75    32.000000    4.000000    245.000000\n",
              "range   1637.00  2465.000000  583.000000  14541.000000"
            ]
          },
          "metadata": {
            "tags": []
          },
          "execution_count": 16
        }
      ]
    }
  ]
}